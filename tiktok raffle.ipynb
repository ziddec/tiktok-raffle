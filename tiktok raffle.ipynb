{
 "cells": [
  {
   "cell_type": "markdown",
   "metadata": {},
   "source": [
    "This notebook aims to:\n",
    "* Load comments from .json file\n",
    "* Remove duplicates\n",
    "* Select one winner uniformly\n",
    "\n",
    "Ideas:\n",
    "* Filter valid candidates, ie, only people who commented a certain word\n",
    "* Make a script to load the comments automatically (kind of dangerous, because TikTok could ban you thinking you are a bot)"
   ]
  },
  {
   "cell_type": "markdown",
   "metadata": {},
   "source": [
    "### Getting the .json file\n",
    "\n",
    "You need to manually load all the comments.\n",
    "Then, Inspect > Console > paste the following code (provided by the incredible @gabriel-card):\n",
    "```\n",
    "function DOMRegex(regex) {\n",
    "    let output = [];\n",
    "    for (let i of document.querySelectorAll('*')) {\n",
    "        for (let j of i.attributes) {\n",
    "            if (regex.test(j.value)) {\n",
    "                output.push({\n",
    "                    'element': i,\n",
    "                    'attribute name': j.name,\n",
    "                    'attribute value': j.value\n",
    "                });\n",
    "            }\n",
    "        }\n",
    "    }\n",
    "    return output;\n",
    "}\n",
    "\n",
    "let comments = DOMRegex(/.*?PCommentText(.*?)/)\n",
    "let user_comment = []\n",
    "for (let comment of comments) {\n",
    "    user_comment.push([\n",
    "        comment.element.parentElement.previousElementSibling.attributes.href.value,\n",
    "        comment.element.innerText\n",
    "    ])\n",
    "}\n",
    "\n",
    "console.log(user_comment)\n",
    "```\n",
    "\n",
    "\n",
    "Then copy the output object and save it as a .json file. I saved it as 'comments.json' on the same folder of this notebook."
   ]
  },
  {
   "cell_type": "code",
   "execution_count": 77,
   "metadata": {},
   "outputs": [],
   "source": [
    "import pandas as pd\n",
    "import numpy as np\n",
    "import re\n",
    "import random"
   ]
  },
  {
   "cell_type": "code",
   "execution_count": null,
   "metadata": {},
   "outputs": [],
   "source": [
    "comments = pd.read_json('comments.json')\n",
    "comments.columns = ['username', 'comment']\n",
    "comments.head()"
   ]
  },
  {
   "cell_type": "code",
   "execution_count": 73,
   "metadata": {},
   "outputs": [],
   "source": [
    "username_limpo = [re.sub('\\/\\@', '', x) for x in comments.username]\n",
    "username_limpo = [re.sub('\\?.*', '', x) for x in username_limpo]\n",
    "comments['username'] = username_limpo"
   ]
  },
  {
   "cell_type": "code",
   "execution_count": 91,
   "metadata": {},
   "outputs": [
    {
     "name": "stdout",
     "output_type": "stream",
     "text": [
      "2186  comments were considered, made by\n",
      "2186  people.\n",
      "Your probability of winning is:  0.04574565416285453 %\n"
     ]
    }
   ],
   "source": [
    "print(len(comments), ' comments were considered, made by')\n",
    "print(len(set(comments.username)), ' people.')\n",
    "print('Your probability of winning is: ', 1/len(set(comments.username))*100, '%')"
   ]
  },
  {
   "cell_type": "code",
   "execution_count": 80,
   "metadata": {},
   "outputs": [],
   "source": [
    "comments.drop_duplicates('username', inplace = True)"
   ]
  },
  {
   "cell_type": "code",
   "execution_count": null,
   "metadata": {},
   "outputs": [],
   "source": [
    "winner = random.randint(0, len(comments))\n",
    "comments.loc[winner]"
   ]
  },
  {
   "cell_type": "code",
   "execution_count": null,
   "metadata": {},
   "outputs": [],
   "source": []
  }
 ],
 "metadata": {
  "interpreter": {
   "hash": "916dbcbb3f70747c44a77c7bcd40155683ae19c65e1c03b4aa3499c5328201f1"
  },
  "kernelspec": {
   "display_name": "Python 3.8.10 64-bit",
   "language": "python",
   "name": "python3"
  },
  "language_info": {
   "codemirror_mode": {
    "name": "ipython",
    "version": 3
   },
   "file_extension": ".py",
   "mimetype": "text/x-python",
   "name": "python",
   "nbconvert_exporter": "python",
   "pygments_lexer": "ipython3",
   "version": "3.8.5"
  },
  "orig_nbformat": 4
 },
 "nbformat": 4,
 "nbformat_minor": 2
}
